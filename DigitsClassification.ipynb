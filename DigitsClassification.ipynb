{
 "cells": [
  {
   "cell_type": "code",
   "execution_count": 1,
   "metadata": {},
   "outputs": [],
   "source": [
    "import pandas as pd"
   ]
  },
  {
   "cell_type": "code",
   "execution_count": 2,
   "metadata": {},
   "outputs": [],
   "source": [
    "%matplotlib inline\n",
    "import matplotlib.pyplot as plt"
   ]
  },
  {
   "cell_type": "code",
   "execution_count": 3,
   "metadata": {},
   "outputs": [],
   "source": [
    "from sklearn.datasets import load_digits"
   ]
  },
  {
   "cell_type": "code",
   "execution_count": 4,
   "metadata": {},
   "outputs": [],
   "source": [
    "digits = load_digits()"
   ]
  },
  {
   "cell_type": "code",
   "execution_count": 5,
   "metadata": {},
   "outputs": [
    {
     "data": {
      "text/plain": [
       "['DESCR', 'data', 'images', 'target', 'target_names']"
      ]
     },
     "execution_count": 5,
     "metadata": {},
     "output_type": "execute_result"
    }
   ],
   "source": [
    "dir(digits)"
   ]
  },
  {
   "cell_type": "code",
   "execution_count": 6,
   "metadata": {},
   "outputs": [
    {
     "data": {
      "text/plain": [
       "array([ 0.,  0.,  5., 13.,  9.,  1.,  0.,  0.,  0.,  0., 13., 15., 10.,\n",
       "       15.,  5.,  0.,  0.,  3., 15.,  2.,  0., 11.,  8.,  0.,  0.,  4.,\n",
       "       12.,  0.,  0.,  8.,  8.,  0.,  0.,  5.,  8.,  0.,  0.,  9.,  8.,\n",
       "        0.,  0.,  4., 11.,  0.,  1., 12.,  7.,  0.,  0.,  2., 14.,  5.,\n",
       "       10., 12.,  0.,  0.,  0.,  0.,  6., 13., 10.,  0.,  0.,  0.])"
      ]
     },
     "execution_count": 6,
     "metadata": {},
     "output_type": "execute_result"
    }
   ],
   "source": [
    "digits.data[0]"
   ]
  },
  {
   "cell_type": "code",
   "execution_count": 9,
   "metadata": {},
   "outputs": [
    {
     "data": {
      "text/plain": [
       "2"
      ]
     },
     "execution_count": 9,
     "metadata": {},
     "output_type": "execute_result"
    }
   ],
   "source": [
    "digits.target[2]"
   ]
  },
  {
   "cell_type": "code",
   "execution_count": 11,
   "metadata": {},
   "outputs": [
    {
     "data": {
      "image/png": "[encoded data removed]",
      "text/plain": [
       "<Figure size 288x288 with 1 Axes>"
      ]
     },
     "metadata": {
      "needs_background": "light"
     },
     "output_type": "display_data"
    },
    {
     "data": {
      "image/png": "[encoded data removed]",
      "text/plain": [
       "<Figure size 288x288 with 1 Axes>"
      ]
     },
     "metadata": {
      "needs_background": "light"
     },
     "output_type": "display_data"
    },
    {
     "data": {
      "image/png": "[encoded data removed]",
      "text/plain": [
       "<Figure size 288x288 with 1 Axes>"
      ]
     },
     "metadata": {
      "needs_background": "light"
     },
     "output_type": "display_data"
    },
    {
     "data": {
      "image/png": "[encoded data removed]",
      "text/plain": [
       "<Figure size 288x288 with 1 Axes>"
      ]
     },
     "metadata": {
      "needs_background": "light"
     },
     "output_type": "display_data"
    }
   ],
   "source": [
    "for i in range(4):\n",
    "    plt.matshow(digits.images[i])"
   ]
  },
  {
   "cell_type": "code",
   "execution_count": 13,
   "metadata": {},
   "outputs": [
    {
     "data": {
      "text/plain": [
       "0"
      ]
     },
     "execution_count": 13,
     "metadata": {},
     "output_type": "execute_result"
    }
   ],
   "source": [
    "digits.target[0]"
   ]
  },
  {
   "cell_type": "code",
   "execution_count": 12,
   "metadata": {},
   "outputs": [],
   "source": [
    "from sklearn.model_selection import train_test_split"
   ]
  },
  {
   "cell_type": "code",
   "execution_count": 14,
   "metadata": {},
   "outputs": [],
   "source": [
    "x_train,x_test,y_train,y_test = train_test_split(digits.data,digits.target,test_size=0.2)"
   ]
  },
  {
   "cell_type": "code",
   "execution_count": 15,
   "metadata": {},
   "outputs": [
    {
     "data": {
      "text/plain": [
       "array([[ 0.,  0., 15., ..., 11.,  0.,  0.],\n",
       "       [ 0.,  0.,  7., ..., 16., 16.,  5.],\n",
       "       [ 0.,  0., 10., ...,  7.,  0.,  0.],\n",
       "       ...,\n",
       "       [ 0.,  0.,  2., ...,  0.,  0.,  0.],\n",
       "       [ 0.,  0.,  0., ..., 16., 12.,  1.],\n",
       "       [ 0.,  0.,  4., ...,  8.,  0.,  0.]])"
      ]
     },
     "execution_count": 15,
     "metadata": {},
     "output_type": "execute_result"
    }
   ],
   "source": [
    "x_train"
   ]
  },
  {
   "cell_type": "code",
   "execution_count": 16,
   "metadata": {},
   "outputs": [
    {
     "data": {
      "text/plain": [
       "array([9, 1, 9, ..., 7, 6, 3])"
      ]
     },
     "execution_count": 16,
     "metadata": {},
     "output_type": "execute_result"
    }
   ],
   "source": [
    "y_train"
   ]
  },
  {
   "cell_type": "code",
   "execution_count": 19,
   "metadata": {},
   "outputs": [],
   "source": [
    "from sklearn.linear_model import LogisticRegression"
   ]
  },
  {
   "cell_type": "code",
   "execution_count": 23,
   "metadata": {},
   "outputs": [
    {
     "name": "stderr",
     "output_type": "stream",
     "text": [
      "/home/harish/my_project_dir/my_project_env/lib/python3.7/site-packages/sklearn/linear_model/_logistic.py:940: ConvergenceWarning: lbfgs failed to converge (status=1):\n",
      "STOP: TOTAL NO. of ITERATIONS REACHED LIMIT.\n",
      "\n",
      "Increase the number of iterations (max_iter) or scale the data as shown in:\n",
      "    https://scikit-learn.org/stable/modules/preprocessing.html\n",
      "Please also refer to the documentation for alternative solver options:\n",
      "    https://scikit-learn.org/stable/modules/linear_model.html#logistic-regression\n",
      "  extra_warning_msg=_LOGISTIC_SOLVER_CONVERGENCE_MSG)\n"
     ]
    },
    {
     "data": {
      "text/plain": [
       "LogisticRegression(C=1.0, class_weight=None, dual=False, fit_intercept=True,\n",
       "                   intercept_scaling=1, l1_ratio=None, max_iter=100,\n",
       "                   multi_class='auto', n_jobs=None, penalty='l2',\n",
       "                   random_state=None, solver='lbfgs', tol=0.0001, verbose=0,\n",
       "                   warm_start=False)"
      ]
     },
     "execution_count": 23,
     "metadata": {},
     "output_type": "execute_result"
    }
   ],
   "source": [
    "lr = LogisticRegression()\n",
    "model = lr.fit(x_train,y_train)\n",
    "model"
   ]
  },
  {
   "cell_type": "code",
   "execution_count": 28,
   "metadata": {},
   "outputs": [
    {
     "data": {
      "text/plain": [
       "array([5, 6, 7, 3, 8, 4, 1, 1, 6, 5, 3, 7, 1, 2, 6, 9, 2, 3, 6, 8, 4, 5,\n",
       "       9, 2, 9, 9, 6, 5, 7, 0, 8, 6, 5, 2, 2, 9, 8, 3, 5, 8, 2, 2, 8, 8,\n",
       "       7, 4, 6, 0, 3, 8, 4, 5, 0, 8, 7, 6, 4, 3, 2, 6, 1, 1, 1, 4, 5, 6,\n",
       "       5, 0, 7, 6, 5, 0, 5, 1, 9, 4, 2, 5, 6, 5, 5, 5, 7, 5, 0, 2, 9, 0,\n",
       "       2, 7, 5, 9, 1, 5, 2, 5, 1, 5, 6, 5, 4, 2, 7, 5, 2, 1, 7, 6, 4, 6,\n",
       "       9, 4, 8, 2, 4, 1, 6, 2, 9, 4, 4, 3, 3, 6, 4, 9, 3, 1, 1, 9, 8, 2,\n",
       "       6, 4, 0, 8, 3, 1, 4, 9, 6, 1, 5, 3, 3, 5, 3, 9, 9, 6, 5, 1, 5, 7,\n",
       "       1, 5, 2, 7, 5, 6, 9, 7, 1, 4, 1, 7, 9, 5, 1, 2, 0, 0, 0, 6, 0, 5,\n",
       "       6, 3, 9, 6, 8, 4, 5, 6, 2, 8, 2, 6, 6, 7, 0, 5, 5, 2, 7, 7, 1, 1,\n",
       "       7, 9, 7, 0, 8, 5, 8, 4, 0, 1, 5, 9, 5, 0, 7, 7, 5, 9, 3, 1, 0, 9,\n",
       "       7, 5, 8, 5, 6, 1, 5, 7, 4, 1, 7, 7, 5, 2, 5, 8, 4, 9, 0, 8, 8, 5,\n",
       "       0, 7, 9, 7, 6, 3, 3, 5, 3, 7, 6, 0, 4, 3, 8, 8, 7, 0, 8, 9, 2, 2,\n",
       "       3, 5, 2, 4, 3, 2, 5, 0, 2, 9, 4, 3, 0, 2, 0, 9, 7, 0, 6, 5, 1, 9,\n",
       "       1, 7, 3, 0, 0, 0, 8, 9, 0, 1, 2, 2, 0, 9, 0, 6, 1, 4, 7, 1, 3, 3,\n",
       "       3, 7, 1, 4, 0, 7, 4, 2, 3, 7, 9, 1, 0, 8, 4, 4, 7, 9, 7, 6, 7, 0,\n",
       "       1, 2, 7, 3, 6, 1, 2, 8, 9, 7, 1, 8, 6, 9, 4, 1, 6, 5, 8, 8, 7, 8,\n",
       "       3, 6, 0, 2, 6, 4, 8, 1])"
      ]
     },
     "execution_count": 28,
     "metadata": {},
     "output_type": "execute_result"
    }
   ],
   "source": [
    "pred = model.predict(x_test)\n",
    "pred"
   ]
  },
  {
   "cell_type": "code",
   "execution_count": 29,
   "metadata": {},
   "outputs": [
    {
     "data": {
      "text/plain": [
       "array([5, 6, 7, 3, 8, 4, 1, 1, 6, 5, 3, 7, 1, 2, 6, 9, 2, 3, 6, 8, 4, 5,\n",
       "       9, 2, 9, 9, 6, 5, 7, 0, 3, 6, 5, 2, 2, 9, 8, 3, 5, 8, 2, 5, 8, 8,\n",
       "       7, 4, 6, 0, 3, 8, 4, 5, 0, 4, 7, 6, 0, 3, 2, 6, 1, 1, 1, 4, 5, 6,\n",
       "       5, 0, 7, 6, 5, 0, 5, 1, 9, 4, 2, 5, 6, 5, 5, 5, 7, 5, 0, 2, 9, 0,\n",
       "       2, 7, 5, 9, 1, 6, 2, 5, 1, 5, 6, 5, 4, 2, 7, 5, 2, 1, 7, 6, 4, 6,\n",
       "       9, 4, 8, 2, 4, 1, 6, 2, 9, 4, 4, 3, 3, 6, 4, 9, 3, 1, 2, 9, 8, 2,\n",
       "       6, 4, 0, 8, 3, 1, 4, 9, 6, 1, 5, 3, 3, 5, 3, 9, 9, 6, 5, 1, 5, 7,\n",
       "       1, 6, 2, 7, 5, 6, 9, 7, 1, 7, 1, 7, 9, 5, 8, 2, 0, 0, 0, 6, 0, 5,\n",
       "       6, 3, 9, 6, 8, 4, 5, 6, 2, 8, 2, 6, 6, 7, 0, 3, 5, 2, 7, 7, 1, 1,\n",
       "       7, 9, 7, 0, 8, 5, 8, 4, 0, 1, 5, 9, 8, 4, 7, 7, 5, 9, 3, 1, 0, 9,\n",
       "       7, 5, 8, 5, 6, 1, 5, 7, 4, 1, 7, 7, 5, 2, 5, 8, 4, 9, 0, 8, 8, 5,\n",
       "       0, 7, 9, 7, 6, 3, 3, 8, 3, 7, 6, 0, 4, 3, 8, 8, 7, 0, 9, 9, 2, 2,\n",
       "       3, 5, 2, 4, 3, 2, 5, 0, 2, 9, 4, 3, 0, 2, 0, 9, 7, 0, 6, 5, 8, 9,\n",
       "       1, 7, 3, 0, 0, 0, 8, 4, 0, 1, 2, 2, 0, 9, 0, 6, 1, 4, 7, 1, 3, 3,\n",
       "       3, 7, 1, 4, 0, 7, 4, 2, 3, 7, 9, 1, 0, 8, 4, 4, 7, 9, 7, 6, 7, 0,\n",
       "       1, 2, 7, 3, 6, 1, 2, 8, 9, 7, 1, 8, 6, 9, 4, 1, 6, 5, 8, 8, 7, 8,\n",
       "       3, 6, 0, 2, 6, 4, 4, 1])"
      ]
     },
     "execution_count": 29,
     "metadata": {},
     "output_type": "execute_result"
    }
   ],
   "source": [
    "y_test"
   ]
  },
  {
   "cell_type": "code",
   "execution_count": 33,
   "metadata": {},
   "outputs": [
    {
     "data": {
      "text/plain": [
       "0.9527777777777777"
      ]
     },
     "execution_count": 33,
     "metadata": {},
     "output_type": "execute_result"
    }
   ],
   "source": [
    "model.score(x_test,y_test)"
   ]
  },
  {
   "cell_type": "code",
   "execution_count": null,
   "metadata": {},
   "outputs": [],
   "source": []
  }
 ],
 "metadata": {
  "kernelspec": {
   "display_name": "Python 3",
   "language": "python",
   "name": "python3"
  },
  "language_info": {
   "codemirror_mode": {
    "name": "ipython",
    "version": 3
   },
   "file_extension": ".py",
   "mimetype": "text/x-python",
   "name": "python",
   "nbconvert_exporter": "python",
   "pygments_lexer": "ipython3",
   "version": "3.7.3"
  }
 },
 "nbformat": 4,
 "nbformat_minor": 4
}
